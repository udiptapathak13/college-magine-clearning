{
 "cells": [
  {
   "cell_type": "code",
   "execution_count": 162,
   "id": "d5c431ed",
   "metadata": {
    "scrolled": false
   },
   "outputs": [
    {
     "data": {
      "text/plain": [
       "0.85"
      ]
     },
     "execution_count": 162,
     "metadata": {},
     "output_type": "execute_result"
    }
   ],
   "source": [
    "import pandas as pd\n",
    "from sklearn.model_selection import train_test_split\n",
    "from sklearn.naive_bayes import GaussianNB\n",
    "from sklearn.preprocessing import LabelEncoder\n",
    "from sklearn.metrics import accuracy_score\n",
    "\n",
    "# Reading the CSV File\n",
    "df = pd.read_csv('drug.csv')\n",
    "\n",
    "# Label Encoding Sex, BP, Cholesterol and Drug\n",
    "sEnc = LabelEncoder()\n",
    "bEnc = LabelEncoder()\n",
    "cEnc = LabelEncoder()\n",
    "dEnc = LabelEncoder()\n",
    "\n",
    "df['Sex'] = sEnc.fit_transform(df['Sex'])\n",
    "df['BP'] = bEnc.fit_transform(df['BP'])\n",
    "df['Cholesterol'] = cEnc.fit_transform(df['Cholesterol'])\n",
    "df['Drug'] = dEnc.fit_transform(df['Drug'])\n",
    "\n",
    "# Creating Input and Output Set\n",
    "X = df.drop(columns = ['Drug'])\n",
    "Y = df['Drug']\n",
    "\n",
    "# Dividing the Input and Output further into Training and Test Set\n",
    "X_trn, X_tst, Y_trn, Y_tst = train_test_split(X, Y, test_size = 0.2)\n",
    "\n",
    "# Training the Gaussian Naive Bayes Model\n",
    "gnb = GaussianNB()\n",
    "gnb.fit(X_trn, Y_trn)\n",
    "\n",
    "# Meauring Performance of the Model\n",
    "prediction = gnb.predict(X_tst)\n",
    "score = accuracy_score(Y_tst, prediction)\n",
    "score"
   ]
  },
  {
   "cell_type": "code",
   "execution_count": null,
   "id": "01e7d2d9",
   "metadata": {},
   "outputs": [],
   "source": []
  }
 ],
 "metadata": {
  "kernelspec": {
   "display_name": "Python 3 (ipykernel)",
   "language": "python",
   "name": "python3"
  },
  "language_info": {
   "codemirror_mode": {
    "name": "ipython",
    "version": 3
   },
   "file_extension": ".py",
   "mimetype": "text/x-python",
   "name": "python",
   "nbconvert_exporter": "python",
   "pygments_lexer": "ipython3",
   "version": "3.9.13"
  }
 },
 "nbformat": 4,
 "nbformat_minor": 5
}
