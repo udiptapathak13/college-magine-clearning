{
 "cells": [
  {
   "cell_type": "code",
   "execution_count": 12,
   "id": "8b2b5d2e",
   "metadata": {},
   "outputs": [
    {
     "name": "stdout",
     "output_type": "stream",
     "text": [
      "[0 1 1 0 1 2 0 1 0 2 0 0 1 1 0 0 3 4 0 0 2 0 4 3 2 4 0 0 0 4 1 0 0 3 4 0 0\n",
      " 1 1 2]\n",
      "180    0\n",
      "76     1\n",
      "169    1\n",
      "97     0\n",
      "78     1\n",
      "186    2\n",
      "21     0\n",
      "101    1\n",
      "125    0\n",
      "41     2\n",
      "131    0\n",
      "93     0\n",
      "150    1\n",
      "187    1\n",
      "109    0\n",
      "26     0\n",
      "84     3\n",
      "79     4\n",
      "28     0\n",
      "178    0\n",
      "54     2\n",
      "23     0\n",
      "3      4\n",
      "18     3\n",
      "70     2\n",
      "43     4\n",
      "42     0\n",
      "115    0\n",
      "164    0\n",
      "39     4\n",
      "36     1\n",
      "71     0\n",
      "189    0\n",
      "195    3\n",
      "32     4\n",
      "87     0\n",
      "134    0\n",
      "147    1\n",
      "174    1\n",
      "136    2\n",
      "Name: Drug, dtype: int32\n"
     ]
    },
    {
     "data": {
      "text/plain": [
       "1.0"
      ]
     },
     "execution_count": 12,
     "metadata": {},
     "output_type": "execute_result"
    }
   ],
   "source": [
    "import pandas as pd\n",
    "from sklearn.model_selection import train_test_split\n",
    "from sklearn.tree import DecisionTreeClassifier\n",
    "from sklearn.preprocessing import LabelEncoder\n",
    "from sklearn.metrics import accuracy_score\n",
    "\n",
    "# Reading the CSV File\n",
    "df = pd.read_csv('drug.csv')\n",
    "\n",
    "# Label Encoding Sex, BP, Cholesterol and Drug\n",
    "sEnc = LabelEncoder()\n",
    "bEnc = LabelEncoder()\n",
    "cEnc = LabelEncoder()\n",
    "dEnc = LabelEncoder()\n",
    "\n",
    "df['Sex'] = sEnc.fit_transform(df['Sex'])\n",
    "df['BP'] = bEnc.fit_transform(df['BP'])\n",
    "df['Cholesterol'] = cEnc.fit_transform(df['Cholesterol'])\n",
    "df['Drug'] = dEnc.fit_transform(df['Drug'])\n",
    "\n",
    "# Creating Input and Output Set\n",
    "X = df.drop(columns = ['Drug'])\n",
    "Y = df['Drug']\n",
    "\n",
    "# Dividing the Input and Output further into Training and Test Set\n",
    "X_trn, X_tst, Y_trn, Y_tst = train_test_split(X, Y, test_size = 0.2)\n",
    "\n",
    "# Training the Decision Tree Model using Entropy\n",
    "ginitree = DecisionTreeClassifier(criterion = \"entropy\")\n",
    "ginitree.fit(X, Y)\n",
    "\n",
    "# Meauring Performance of the Model\n",
    "prediction = ginitree.predict(X_tst)\n",
    "score = accuracy_score(Y_tst, prediction)\n",
    "score"
   ]
  },
  {
   "cell_type": "code",
   "execution_count": null,
   "id": "21160b60",
   "metadata": {},
   "outputs": [],
   "source": []
  }
 ],
 "metadata": {
  "kernelspec": {
   "display_name": "Python 3 (ipykernel)",
   "language": "python",
   "name": "python3"
  },
  "language_info": {
   "codemirror_mode": {
    "name": "ipython",
    "version": 3
   },
   "file_extension": ".py",
   "mimetype": "text/x-python",
   "name": "python",
   "nbconvert_exporter": "python",
   "pygments_lexer": "ipython3",
   "version": "3.9.13"
  }
 },
 "nbformat": 4,
 "nbformat_minor": 5
}
